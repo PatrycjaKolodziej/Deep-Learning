{
 "cells": [
  {
   "cell_type": "code",
   "execution_count": null,
   "metadata": {},
   "outputs": [],
   "source": [
    "import pandas as pd\n",
    "import numpy as np"
   ]
  },
  {
   "cell_type": "code",
   "execution_count": null,
   "metadata": {},
   "outputs": [],
   "source": [
    "df = pd.read_csv(\"datasets/insurance.csv\", sep=';')"
   ]
  },
  {
   "cell_type": "code",
   "execution_count": null,
   "metadata": {},
   "outputs": [],
   "source": []
  },
  {
   "attachments": {},
   "cell_type": "markdown",
   "metadata": {},
   "source": [
    "<div class=\"alert alert-block alert-info\">\n",
    "📝 <b>Zadanie 1</b><br>\n",
    "    Przygotuj dane:\n",
    "    <ul>\n",
    "    <li>Przekształć zmienne tekstowe na zmienne binarne lub kategoryczne</li>\n",
    "    <li>Wystandaryzuj dane numeryczne</li>\n",
    "    <li>Dokonaj podziału na zbiory treningowe i testowe</li>\n",
    "    </ul></div>"
   ]
  },
  {
   "cell_type": "code",
   "execution_count": null,
   "metadata": {},
   "outputs": [],
   "source": [
    "from sklearn.preprocessing import StandardScaler"
   ]
  },
  {
   "cell_type": "code",
   "execution_count": null,
   "metadata": {},
   "outputs": [],
   "source": []
  },
  {
   "cell_type": "code",
   "execution_count": null,
   "metadata": {},
   "outputs": [],
   "source": [
    "from sklearn.model_selection import train_test_split"
   ]
  },
  {
   "cell_type": "code",
   "execution_count": null,
   "metadata": {},
   "outputs": [],
   "source": []
  },
  {
   "attachments": {},
   "cell_type": "markdown",
   "metadata": {},
   "source": [
    "<div class=\"alert alert-block alert-info\">\n",
    "📝 <b>Zadanie 2.1</b><br>\n",
    "Przygotuj estymator modelu perceptrona wielowarstwowego o poniższych cechach:\n",
    "<ul>\n",
    "<li>architektura składająca się z 2 warstw ukrytych:</li>\n",
    "    <ul>\n",
    "    <li>pierwsza warstwa ukryta o 128 neuronach</li>\n",
    "    <li>druga warstwa ukryta o 64 neuronach</li>\n",
    "    </ul>\n",
    "<li>funkcja aktywacji dla warstw ukrytych: relu</li>\n",
    "<li>optymalizator wag neuronów (solver): adam</li>\n",
    "<li>maksymalna liczba iteracji: 1000</li>\n",
    "<li>rozmiar wsadu (batch size): 64</li>\n",
    "<li>ziarno losowości (random_state): 42</li>\n",
    "</ul>\n",
    "Wytrenuj model na wystandaryzowanych danych treningowych.\n",
    "</div>"
   ]
  },
  {
   "cell_type": "code",
   "execution_count": null,
   "metadata": {},
   "outputs": [],
   "source": []
  },
  {
   "attachments": {},
   "cell_type": "markdown",
   "metadata": {},
   "source": [
    "<div class=\"alert alert-block alert-info\">\n",
    "📝 <b>Zadanie 2.2</b><br>\n",
    "Dokonaj prognozy zbioru testowego. Oblicz wartość współczynnika R2.</div>"
   ]
  },
  {
   "cell_type": "code",
   "execution_count": null,
   "metadata": {},
   "outputs": [],
   "source": [
    "from sklearn.metrics import r2_score, mean_absolute_error"
   ]
  },
  {
   "cell_type": "code",
   "execution_count": null,
   "metadata": {},
   "outputs": [],
   "source": []
  },
  {
   "attachments": {},
   "cell_type": "markdown",
   "metadata": {},
   "source": [
    "<div class=\"alert alert-block alert-info\">\n",
    "<div class=\"alert alert-block alert-info\">\n",
    "📝 <b>Zadanie 3.1</b><br>\n",
    "Korzystając z biblioteki tensorflow, przygotuj architekturę sieci neuronowej o poniższych cechach:\n",
    "<ul>\n",
    "<li>2 warstwy ukryte:</li>\n",
    "    <ul>\n",
    "    <li>pierwsza warstwa ukryta o 128 neuronach</li>\n",
    "    <li>druga warstwa ukryta o 64 neuronach</li>\n",
    "    </ul>\n",
    "<li>funkcja aktywacji dla warstw ukrytych: relu</li>\n",
    "</ul>\n",
    "</div>\n",
    "</div>"
   ]
  },
  {
   "cell_type": "code",
   "execution_count": null,
   "metadata": {},
   "outputs": [],
   "source": [
    "from tensorflow.keras import models\n",
    "from tensorflow.keras.layers import Dense"
   ]
  },
  {
   "cell_type": "code",
   "execution_count": null,
   "metadata": {},
   "outputs": [],
   "source": []
  },
  {
   "attachments": {},
   "cell_type": "markdown",
   "metadata": {},
   "source": [
    "<div class=\"alert alert-block alert-info\">\n",
    "📝 <b>Zadanie 3.2</b><br>\n",
    "Skompiluj model, wykorzystując:<br>\n",
    "<ul>\n",
    "    <li>optimizer (optymalizator wag neuronów, solver): <i>adam</i></li>\n",
    "<li>funkcję straty: <i>mean_squared_error</i></li>\n",
    "</ul>\n",
    "</div>"
   ]
  },
  {
   "cell_type": "code",
   "execution_count": null,
   "metadata": {},
   "outputs": [],
   "source": []
  },
  {
   "attachments": {},
   "cell_type": "markdown",
   "metadata": {},
   "source": [
    "<div class=\"alert alert-block alert-info\">\n",
    "📝 <b>Zadanie 3.3</b><br>\n",
    "Wytrenujmy powyższy model. Liczba epok równa 1000 i rozmiar batcha równy 64.\n",
    "</div>"
   ]
  },
  {
   "cell_type": "code",
   "execution_count": null,
   "metadata": {},
   "outputs": [],
   "source": []
  },
  {
   "attachments": {},
   "cell_type": "markdown",
   "metadata": {},
   "source": [
    "<div class=\"alert alert-block alert-info\">\n",
    "📝 <b>Zadanie 3.4</b><br>\n",
    "Dokonaj prognozy zbioru testowego. Oblicz wartość współczynnika R2.</div>"
   ]
  },
  {
   "cell_type": "code",
   "execution_count": null,
   "metadata": {},
   "outputs": [],
   "source": []
  },
  {
   "cell_type": "code",
   "execution_count": null,
   "metadata": {},
   "outputs": [],
   "source": []
  }
 ],
 "metadata": {
  "kernelspec": {
   "display_name": "py38ml",
   "language": "python",
   "name": "python3"
  },
  "language_info": {
   "codemirror_mode": {
    "name": "ipython",
    "version": 3
   },
   "file_extension": ".py",
   "mimetype": "text/x-python",
   "name": "python",
   "nbconvert_exporter": "python",
   "pygments_lexer": "ipython3",
   "version": "3.8.15"
  },
  "orig_nbformat": 4
 },
 "nbformat": 4,
 "nbformat_minor": 2
}
