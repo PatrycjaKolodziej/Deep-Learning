{
 "cells": [
  {
   "cell_type": "markdown",
   "metadata": {},
   "source": [
    "# Classification (Wine dataset)\n",
    "\n",
    "This is a copy of UCI ML Wine recognition datasets. https://archive.ics.uci.edu/ml/machine-learning-databases/wine/wine.data\n",
    "\n",
    "The data is the results of a chemical analysis of wines grown in the same region in Italy by three different cultivators. There are thirteen different measurements taken for different constituents found in the three types of wine.\n",
    "\n",
    "Features:\n",
    "* Alcohol\n",
    "* Malic acid\n",
    "* Ash\n",
    "* Alcalinity of ash\n",
    "* Magnesium\n",
    "* Total phenols\n",
    "* Flavanoids\n",
    "* Nonflavanoid phenols\n",
    "* Proanthocyanins\n",
    "* Color intensity\n",
    "* Hue\n",
    "* OD280/OD315 of diluted wines\n",
    "* Proline"
   ]
  },
  {
   "cell_type": "code",
   "execution_count": null,
   "metadata": {},
   "outputs": [],
   "source": [
    "import pandas as pd\n",
    "import numpy as np\n",
    "from sklearn.neural_network import MLPClassifier\n",
    "from sklearn.model_selection import train_test_split\n",
    "from sklearn.datasets import load_wine\n",
    "from sklearn.preprocessing import StandardScaler\n",
    "from sklearn.metrics import classification_report"
   ]
  },
  {
   "cell_type": "code",
   "execution_count": null,
   "metadata": {},
   "outputs": [],
   "source": [
    "wine_dataset = load_wine()\n",
    "X = pd.DataFrame(wine_dataset.data, columns=wine_dataset.feature_names)\n",
    "y = wine_dataset.target"
   ]
  },
  {
   "cell_type": "code",
   "execution_count": null,
   "metadata": {},
   "outputs": [],
   "source": []
  },
  {
   "cell_type": "markdown",
   "metadata": {},
   "source": [
    "<div class=\"alert alert-block alert-info\">\n",
    "📝 <b>Zadanie 1.1</b><br>\n",
    "Przeskaluj dane korzystając ze StandardScalera.</div>"
   ]
  },
  {
   "cell_type": "code",
   "execution_count": null,
   "metadata": {},
   "outputs": [],
   "source": []
  },
  {
   "attachments": {},
   "cell_type": "markdown",
   "metadata": {},
   "source": [
    "<div class=\"alert alert-block alert-info\">\n",
    "📝 <b>Zadanie 1.2</b><br>\n",
    "Dokonaj podziału zbioru danych na zbiór treningowy i testowy <u>ze stratyfikacją</u>, odkładając 20% obserwacji do zbioru testowego.</div>"
   ]
  },
  {
   "cell_type": "code",
   "execution_count": null,
   "metadata": {},
   "outputs": [],
   "source": []
  },
  {
   "cell_type": "markdown",
   "metadata": {},
   "source": [
    "Architektura perceptrona"
   ]
  },
  {
   "attachments": {},
   "cell_type": "markdown",
   "metadata": {},
   "source": [
    "<div class=\"alert alert-block alert-info\">\n",
    "📝 <b>Zadanie 2.1</b><br>\n",
    "Przygotuj klasyfikator modelu perceptrona wielowarstwowego o poniższych cechach:\n",
    "<ul>\n",
    "<li>architektura składająca się z 2 warstw ukrytych:</li>\n",
    "    <ul>\n",
    "    <li>pierwsza warstwa ukryta o 8 neuronach</li>\n",
    "    <li>druga warstwa ukryta o 4 neuronach</li>\n",
    "    </ul>\n",
    "<li>funkcja aktywacji dla warstw ukrytych: relu</li>\n",
    "<li>optymalizator wag neuronów (solver): adam</li>\n",
    "<li>maksymalna liczba iteracji: 1000</li>\n",
    "<li>rozmiar wsadu (batch size): 32</li>\n",
    "<li>ziarno losowości (random_state): 42</li>\n",
    "</ul>\n",
    "Wytrenuj model na wystandaryzowanych danych treningowych.\n",
    "</div>"
   ]
  },
  {
   "cell_type": "code",
   "execution_count": null,
   "metadata": {},
   "outputs": [],
   "source": []
  },
  {
   "cell_type": "code",
   "execution_count": null,
   "metadata": {},
   "outputs": [],
   "source": []
  },
  {
   "attachments": {},
   "cell_type": "markdown",
   "metadata": {},
   "source": [
    "<div class=\"alert alert-block alert-info\">\n",
    "📝 <b>Zadanie 2.2</b><br>\n",
    "Dokonaj prognozy zbioru testowego. <br>\n",
    "Zweryfikuj metryki klasyfikacji trafności, czułości, precyzji itp (np. korzystając z funkcji <code>classification_report</code>).</div>"
   ]
  },
  {
   "cell_type": "code",
   "execution_count": null,
   "metadata": {},
   "outputs": [],
   "source": []
  },
  {
   "cell_type": "code",
   "execution_count": null,
   "metadata": {},
   "outputs": [],
   "source": []
  },
  {
   "attachments": {},
   "cell_type": "markdown",
   "metadata": {},
   "source": [
    "<div class=\"alert alert-block alert-info\">\n",
    "📝 <b>Zadanie 3.1</b><br>\n",
    "Przygotuj klasyfikator modelu perceptrona wielowarstwowego o poniższych cechach:\n",
    "<ul>\n",
    "<li>architektura składająca się z 1 warstwy ukrytej:</li>\n",
    "    <ul>\n",
    "    <li>warstwa ukryta o 8 neuronach</li>\n",
    "    </ul>\n",
    "<li>funkcja aktywacji dla warstw ukrytych: relu</li>\n",
    "<li>optymalizator wag neuronów (solver): adam</li>\n",
    "<li>maksymalna liczba iteracji: 1000</li>\n",
    "<li>rozmiar wsadu (batch size): 64</li>\n",
    "<li>ziarno losowości (random_state): 42</li>\n",
    "</ul>\n",
    "Wytrenuj model na wystandaryzowanych danych treningowych.\n",
    "</div>"
   ]
  },
  {
   "cell_type": "code",
   "execution_count": null,
   "metadata": {},
   "outputs": [],
   "source": []
  },
  {
   "cell_type": "code",
   "execution_count": null,
   "metadata": {},
   "outputs": [],
   "source": []
  },
  {
   "attachments": {},
   "cell_type": "markdown",
   "metadata": {},
   "source": [
    "<div class=\"alert alert-block alert-info\">\n",
    "📝 <b>Zadanie 3.2</b><br>\n",
    "Dokonaj prognozy zbioru testowego. <br>\n",
    "Zweryfikuj metryki klasyfikacji trafności, czułości, precyzji itp (np. korzystając z funkcji <code>classification_report</code>).</div>"
   ]
  },
  {
   "cell_type": "code",
   "execution_count": null,
   "metadata": {},
   "outputs": [],
   "source": []
  },
  {
   "cell_type": "code",
   "execution_count": null,
   "metadata": {},
   "outputs": [],
   "source": []
  },
  {
   "attachments": {},
   "cell_type": "markdown",
   "metadata": {},
   "source": [
    "<div class=\"alert alert-block alert-info\">\n",
    "📝 <b>Zadanie 4.1</b><br>\n",
    "Korzystając z biblioteki tensorflow, przygotuj architekturę sieci neuronowej o poniższych cechach:\n",
    "<ul>\n",
    "<li>2 warstwy ukryte:</li>\n",
    "    <ul>\n",
    "    <li>pierwsza warstwa ukryta o 16 neuronach</li>\n",
    "    <li>druga warstwa ukryta o 8 neuronach</li>\n",
    "    </ul>\n",
    "<li>funkcja aktywacji dla warstw ukrytych: relu</li>\n",
    "<li>funkcja aktywacji dla warstwy wyjściowej: softmax</li>\n",
    "</ul>\n",
    "\n",
    "❗<b>Ważne:</b> Przed przystąpieniem do modelowania, musimy dodatkowo zakodować etykiety za pomocą kategorii. Wykorzystaj funkcję <code>to_categorical</code> z biblioteki tensorflow.keras.utils\n",
    "</div>"
   ]
  },
  {
   "cell_type": "code",
   "execution_count": null,
   "metadata": {},
   "outputs": [],
   "source": [
    "from tensorflow.keras.utils import to_categorical"
   ]
  },
  {
   "cell_type": "code",
   "execution_count": null,
   "metadata": {},
   "outputs": [],
   "source": [
    "from tensorflow.keras import models\n",
    "from tensorflow.keras.layers import Dense"
   ]
  },
  {
   "cell_type": "code",
   "execution_count": null,
   "metadata": {},
   "outputs": [],
   "source": []
  },
  {
   "cell_type": "code",
   "execution_count": null,
   "metadata": {},
   "outputs": [],
   "source": []
  },
  {
   "attachments": {},
   "cell_type": "markdown",
   "metadata": {},
   "source": [
    "<div class=\"alert alert-block alert-info\">\n",
    "📝 <b>Zadanie 4.2</b><br>\n",
    "Skompiluj model, wykorzystując:<br>\n",
    "<ul>\n",
    "    <li>optimizer (optymalizator wag neuronów, solver): <i>adam</i></li>\n",
    "<li>funkcję straty: <i>categorical_crossentropy</i></li>\n",
    "<li>metrykę monitorującą: <i>accuracy</i></li>\n",
    "</ul>\n",
    "</div>"
   ]
  },
  {
   "cell_type": "code",
   "execution_count": null,
   "metadata": {},
   "outputs": [],
   "source": []
  },
  {
   "attachments": {},
   "cell_type": "markdown",
   "metadata": {},
   "source": [
    "<div class=\"alert alert-block alert-info\">\n",
    "📝 <b>Zadanie 4.3</b><br>\n",
    "Wytrenujmy powyższy model. Liczba epok równa 1000 i rozmiar batcha równy 32.\n",
    "</div>"
   ]
  },
  {
   "cell_type": "code",
   "execution_count": null,
   "metadata": {},
   "outputs": [],
   "source": []
  },
  {
   "attachments": {},
   "cell_type": "markdown",
   "metadata": {},
   "source": [
    "<div class=\"alert alert-block alert-info\">\n",
    "📝 <b>Zadanie 4.4</b><br>\n",
    "Dokonaj prognozy zbioru testowego. <br>\n",
    "Zweryfikuj metryki klasyfikacji trafności, czułości, precyzji itp (np. korzystając z funkcji <code>classification_report</code>).</div>"
   ]
  },
  {
   "cell_type": "code",
   "execution_count": null,
   "metadata": {},
   "outputs": [],
   "source": []
  },
  {
   "cell_type": "code",
   "execution_count": null,
   "metadata": {},
   "outputs": [],
   "source": []
  }
 ],
 "metadata": {
  "kernelspec": {
   "display_name": "py38ml",
   "language": "python",
   "name": "python3"
  },
  "language_info": {
   "codemirror_mode": {
    "name": "ipython",
    "version": 3
   },
   "file_extension": ".py",
   "mimetype": "text/x-python",
   "name": "python",
   "nbconvert_exporter": "python",
   "pygments_lexer": "ipython3",
   "version": "3.8.15"
  },
  "orig_nbformat": 4,
  "vscode": {
   "interpreter": {
    "hash": "d82f3bafc0bfe26145b4b4405506cfdddd6cc205e24f6709dc9baaf0c1c8ebbd"
   }
  }
 },
 "nbformat": 4,
 "nbformat_minor": 2
}
